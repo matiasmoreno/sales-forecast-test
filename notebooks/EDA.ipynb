{
 "cells": [
  {
   "cell_type": "markdown",
   "metadata": {},
   "source": [
    "# Exploratory Data Analysis"
   ]
  },
  {
   "cell_type": "code",
   "execution_count": 9,
   "metadata": {},
   "outputs": [],
   "source": [
    "import pandas as pd\n",
    "\n",
    "input_data_path = '../input_data/'\n",
    "features_df = pd.read_csv(f'{input_data_path}features.csv')\n",
    "stores_df = pd.read_csv(f'{input_data_path}stores.csv')\n",
    "weekly_sales_df = pd.read_csv(f'{input_data_path}weekly_sales.csv')"
   ]
  },
  {
   "cell_type": "markdown",
   "metadata": {},
   "source": [
    "Primero limpiar data según requerimientos: **tiendas tipo B, con tamaño mayor a 100.000 y semanas con temperaturas mayores a 25°**"
   ]
  },
  {
   "cell_type": "code",
   "execution_count": 33,
   "metadata": {},
   "outputs": [],
   "source": [
    "# Tipo B y tamaño mayor a 100k\n",
    "valid_stores = stores_df.query(\"Type == 'B' and Size > 100000\").Store.values"
   ]
  },
  {
   "cell_type": "markdown",
   "metadata": {},
   "source": [
    "Rango de fechas y filtro de semanas por temperatura"
   ]
  },
  {
   "cell_type": "code",
   "execution_count": 43,
   "metadata": {},
   "outputs": [
    {
     "name": "stdout",
     "output_type": "stream",
     "text": [
      "2012-10-26 00:00:00\n",
      "2010-02-05 00:00:00\n"
     ]
    }
   ],
   "source": [
    "print(pd.to_datetime(weekly_sales_df['Date']).max())\n",
    "print(pd.to_datetime(weekly_sales_df['Date']).min())"
   ]
  },
  {
   "cell_type": "code",
   "execution_count": 46,
   "metadata": {},
   "outputs": [
    {
     "name": "stdout",
     "output_type": "stream",
     "text": [
      "2013-07-26 00:00:00\n",
      "2010-02-05 00:00:00\n"
     ]
    }
   ],
   "source": [
    "print(pd.to_datetime(features_df['Date']).max())\n",
    "print(pd.to_datetime(features_df['Date']).min())"
   ]
  },
  {
   "cell_type": "markdown",
   "metadata": {},
   "source": [
    "Para el dataset de ventas, tenemos registros desde 2010-02-05 hasta 2012-10-26 (viernes).\n",
    "En el dataset de Features, tenemos registros desde 2010-02-05 hasta 2013-07-26 (viernes).\n",
    "Pero debemos pronosticar las siguientes 7 semanas, es decir, desde 2012-11-02 hasta el 2012-12-14 (viernes).\n",
    "Entonces vamos a limitar nuestro dataset de features entre las fechas 2010-02-05 y 2012-12-14.\n",
    "Además vamos a eliminar los registros en donde la temperatura sea igual o menor a 25"
   ]
  },
  {
   "cell_type": "code",
   "execution_count": 47,
   "metadata": {},
   "outputs": [
    {
     "data": {
      "text/html": [
       "<div>\n",
       "<style scoped>\n",
       "    .dataframe tbody tr th:only-of-type {\n",
       "        vertical-align: middle;\n",
       "    }\n",
       "\n",
       "    .dataframe tbody tr th {\n",
       "        vertical-align: top;\n",
       "    }\n",
       "\n",
       "    .dataframe thead th {\n",
       "        text-align: right;\n",
       "    }\n",
       "</style>\n",
       "<table border=\"1\" class=\"dataframe\">\n",
       "  <thead>\n",
       "    <tr style=\"text-align: right;\">\n",
       "      <th></th>\n",
       "      <th>Store</th>\n",
       "      <th>Date</th>\n",
       "      <th>Temperature</th>\n",
       "      <th>Fuel_Price</th>\n",
       "      <th>MarkDown1</th>\n",
       "      <th>MarkDown2</th>\n",
       "      <th>MarkDown3</th>\n",
       "      <th>MarkDown4</th>\n",
       "      <th>MarkDown5</th>\n",
       "      <th>CPI</th>\n",
       "      <th>Unemployment</th>\n",
       "      <th>IsHoliday</th>\n",
       "    </tr>\n",
       "  </thead>\n",
       "  <tbody>\n",
       "    <tr>\n",
       "      <th>0</th>\n",
       "      <td>1</td>\n",
       "      <td>2010-02-05</td>\n",
       "      <td>42.31</td>\n",
       "      <td>2.572</td>\n",
       "      <td>NaN</td>\n",
       "      <td>NaN</td>\n",
       "      <td>NaN</td>\n",
       "      <td>NaN</td>\n",
       "      <td>NaN</td>\n",
       "      <td>211.096358</td>\n",
       "      <td>8.106</td>\n",
       "      <td>False</td>\n",
       "    </tr>\n",
       "    <tr>\n",
       "      <th>1</th>\n",
       "      <td>1</td>\n",
       "      <td>2010-02-12</td>\n",
       "      <td>38.51</td>\n",
       "      <td>2.548</td>\n",
       "      <td>NaN</td>\n",
       "      <td>NaN</td>\n",
       "      <td>NaN</td>\n",
       "      <td>NaN</td>\n",
       "      <td>NaN</td>\n",
       "      <td>211.242170</td>\n",
       "      <td>8.106</td>\n",
       "      <td>True</td>\n",
       "    </tr>\n",
       "    <tr>\n",
       "      <th>2</th>\n",
       "      <td>1</td>\n",
       "      <td>2010-02-19</td>\n",
       "      <td>39.93</td>\n",
       "      <td>2.514</td>\n",
       "      <td>NaN</td>\n",
       "      <td>NaN</td>\n",
       "      <td>NaN</td>\n",
       "      <td>NaN</td>\n",
       "      <td>NaN</td>\n",
       "      <td>211.289143</td>\n",
       "      <td>8.106</td>\n",
       "      <td>False</td>\n",
       "    </tr>\n",
       "    <tr>\n",
       "      <th>3</th>\n",
       "      <td>1</td>\n",
       "      <td>2010-02-26</td>\n",
       "      <td>46.63</td>\n",
       "      <td>2.561</td>\n",
       "      <td>NaN</td>\n",
       "      <td>NaN</td>\n",
       "      <td>NaN</td>\n",
       "      <td>NaN</td>\n",
       "      <td>NaN</td>\n",
       "      <td>211.319643</td>\n",
       "      <td>8.106</td>\n",
       "      <td>False</td>\n",
       "    </tr>\n",
       "    <tr>\n",
       "      <th>4</th>\n",
       "      <td>1</td>\n",
       "      <td>2010-03-05</td>\n",
       "      <td>46.50</td>\n",
       "      <td>2.625</td>\n",
       "      <td>NaN</td>\n",
       "      <td>NaN</td>\n",
       "      <td>NaN</td>\n",
       "      <td>NaN</td>\n",
       "      <td>NaN</td>\n",
       "      <td>211.350143</td>\n",
       "      <td>8.106</td>\n",
       "      <td>False</td>\n",
       "    </tr>\n",
       "  </tbody>\n",
       "</table>\n",
       "</div>"
      ],
      "text/plain": [
       "   Store        Date  Temperature  Fuel_Price  MarkDown1  MarkDown2  \\\n",
       "0      1  2010-02-05        42.31       2.572        NaN        NaN   \n",
       "1      1  2010-02-12        38.51       2.548        NaN        NaN   \n",
       "2      1  2010-02-19        39.93       2.514        NaN        NaN   \n",
       "3      1  2010-02-26        46.63       2.561        NaN        NaN   \n",
       "4      1  2010-03-05        46.50       2.625        NaN        NaN   \n",
       "\n",
       "   MarkDown3  MarkDown4  MarkDown5         CPI  Unemployment  IsHoliday  \n",
       "0        NaN        NaN        NaN  211.096358         8.106      False  \n",
       "1        NaN        NaN        NaN  211.242170         8.106       True  \n",
       "2        NaN        NaN        NaN  211.289143         8.106      False  \n",
       "3        NaN        NaN        NaN  211.319643         8.106      False  \n",
       "4        NaN        NaN        NaN  211.350143         8.106      False  "
      ]
     },
     "execution_count": 47,
     "metadata": {},
     "output_type": "execute_result"
    }
   ],
   "source": [
    "features_df.head()"
   ]
  },
  {
   "cell_type": "code",
   "execution_count": 55,
   "metadata": {},
   "outputs": [],
   "source": [
    "features_clean_df = features_df.query(\"Store in @valid_stores\").copy(deep=True)\n",
    "features_clean_df['Date'] = pd.to_datetime(features_clean_df['Date']) # Cast Date into datetime\n",
    "features_clean_df = features_clean_df.query(\"'2010-02-05' <= Date <= '2012-12-14'\") # Filtro de fechas\n",
    "features_clean_df = features_clean_df.query(\"Temperature > 25\")"
   ]
  },
  {
   "cell_type": "code",
   "execution_count": 67,
   "metadata": {},
   "outputs": [
    {
     "name": "stdout",
     "output_type": "stream",
     "text": [
      "El número de registros en el dataset de features disminuyó un 80.5% con los filtros aplicados\n"
     ]
    }
   ],
   "source": [
    "survived = round(100 * (1 - (features_clean_df.shape[0] / features_df.shape[0])), 1)\n",
    "print(f\"El número de registros en el dataset de features disminuyó un {survived}% con los filtros aplicados\")"
   ]
  },
  {
   "cell_type": "code",
   "execution_count": 69,
   "metadata": {},
   "outputs": [
    {
     "data": {
      "text/html": [
       "<div>\n",
       "<style scoped>\n",
       "    .dataframe tbody tr th:only-of-type {\n",
       "        vertical-align: middle;\n",
       "    }\n",
       "\n",
       "    .dataframe tbody tr th {\n",
       "        vertical-align: top;\n",
       "    }\n",
       "\n",
       "    .dataframe thead th {\n",
       "        text-align: right;\n",
       "    }\n",
       "</style>\n",
       "<table border=\"1\" class=\"dataframe\">\n",
       "  <thead>\n",
       "    <tr style=\"text-align: right;\">\n",
       "      <th></th>\n",
       "      <th>Store</th>\n",
       "      <th>Date</th>\n",
       "      <th>Temperature</th>\n",
       "      <th>Fuel_Price</th>\n",
       "      <th>MarkDown1</th>\n",
       "      <th>MarkDown2</th>\n",
       "      <th>MarkDown3</th>\n",
       "      <th>MarkDown4</th>\n",
       "      <th>MarkDown5</th>\n",
       "      <th>CPI</th>\n",
       "      <th>Unemployment</th>\n",
       "      <th>IsHoliday</th>\n",
       "    </tr>\n",
       "  </thead>\n",
       "  <tbody>\n",
       "    <tr>\n",
       "      <th>1456</th>\n",
       "      <td>9</td>\n",
       "      <td>2010-02-05</td>\n",
       "      <td>38.01</td>\n",
       "      <td>2.572</td>\n",
       "      <td>NaN</td>\n",
       "      <td>NaN</td>\n",
       "      <td>NaN</td>\n",
       "      <td>NaN</td>\n",
       "      <td>NaN</td>\n",
       "      <td>214.655459</td>\n",
       "      <td>6.415</td>\n",
       "      <td>False</td>\n",
       "    </tr>\n",
       "    <tr>\n",
       "      <th>1457</th>\n",
       "      <td>9</td>\n",
       "      <td>2010-02-12</td>\n",
       "      <td>37.08</td>\n",
       "      <td>2.548</td>\n",
       "      <td>NaN</td>\n",
       "      <td>NaN</td>\n",
       "      <td>NaN</td>\n",
       "      <td>NaN</td>\n",
       "      <td>NaN</td>\n",
       "      <td>214.805653</td>\n",
       "      <td>6.415</td>\n",
       "      <td>True</td>\n",
       "    </tr>\n",
       "    <tr>\n",
       "      <th>1458</th>\n",
       "      <td>9</td>\n",
       "      <td>2010-02-19</td>\n",
       "      <td>43.06</td>\n",
       "      <td>2.514</td>\n",
       "      <td>NaN</td>\n",
       "      <td>NaN</td>\n",
       "      <td>NaN</td>\n",
       "      <td>NaN</td>\n",
       "      <td>NaN</td>\n",
       "      <td>214.850618</td>\n",
       "      <td>6.415</td>\n",
       "      <td>False</td>\n",
       "    </tr>\n",
       "    <tr>\n",
       "      <th>1459</th>\n",
       "      <td>9</td>\n",
       "      <td>2010-02-26</td>\n",
       "      <td>43.83</td>\n",
       "      <td>2.561</td>\n",
       "      <td>NaN</td>\n",
       "      <td>NaN</td>\n",
       "      <td>NaN</td>\n",
       "      <td>NaN</td>\n",
       "      <td>NaN</td>\n",
       "      <td>214.878045</td>\n",
       "      <td>6.415</td>\n",
       "      <td>False</td>\n",
       "    </tr>\n",
       "    <tr>\n",
       "      <th>1460</th>\n",
       "      <td>9</td>\n",
       "      <td>2010-03-05</td>\n",
       "      <td>48.43</td>\n",
       "      <td>2.625</td>\n",
       "      <td>NaN</td>\n",
       "      <td>NaN</td>\n",
       "      <td>NaN</td>\n",
       "      <td>NaN</td>\n",
       "      <td>NaN</td>\n",
       "      <td>214.905472</td>\n",
       "      <td>6.415</td>\n",
       "      <td>False</td>\n",
       "    </tr>\n",
       "    <tr>\n",
       "      <th>...</th>\n",
       "      <td>...</td>\n",
       "      <td>...</td>\n",
       "      <td>...</td>\n",
       "      <td>...</td>\n",
       "      <td>...</td>\n",
       "      <td>...</td>\n",
       "      <td>...</td>\n",
       "      <td>...</td>\n",
       "      <td>...</td>\n",
       "      <td>...</td>\n",
       "      <td>...</td>\n",
       "      <td>...</td>\n",
       "    </tr>\n",
       "    <tr>\n",
       "      <th>8153</th>\n",
       "      <td>45</td>\n",
       "      <td>2012-11-16</td>\n",
       "      <td>45.61</td>\n",
       "      <td>3.750</td>\n",
       "      <td>18700.38</td>\n",
       "      <td>499.75</td>\n",
       "      <td>28.20</td>\n",
       "      <td>1800.78</td>\n",
       "      <td>10303.93</td>\n",
       "      <td>192.261619</td>\n",
       "      <td>8.667</td>\n",
       "      <td>False</td>\n",
       "    </tr>\n",
       "    <tr>\n",
       "      <th>8154</th>\n",
       "      <td>45</td>\n",
       "      <td>2012-11-23</td>\n",
       "      <td>43.08</td>\n",
       "      <td>3.748</td>\n",
       "      <td>1005.79</td>\n",
       "      <td>NaN</td>\n",
       "      <td>72542.01</td>\n",
       "      <td>484.70</td>\n",
       "      <td>620.12</td>\n",
       "      <td>192.283032</td>\n",
       "      <td>8.667</td>\n",
       "      <td>True</td>\n",
       "    </tr>\n",
       "    <tr>\n",
       "      <th>8155</th>\n",
       "      <td>45</td>\n",
       "      <td>2012-11-30</td>\n",
       "      <td>37.43</td>\n",
       "      <td>3.729</td>\n",
       "      <td>2298.55</td>\n",
       "      <td>NaN</td>\n",
       "      <td>2908.54</td>\n",
       "      <td>100.86</td>\n",
       "      <td>1344.84</td>\n",
       "      <td>192.304445</td>\n",
       "      <td>8.667</td>\n",
       "      <td>False</td>\n",
       "    </tr>\n",
       "    <tr>\n",
       "      <th>8156</th>\n",
       "      <td>45</td>\n",
       "      <td>2012-12-07</td>\n",
       "      <td>45.53</td>\n",
       "      <td>3.688</td>\n",
       "      <td>9273.32</td>\n",
       "      <td>NaN</td>\n",
       "      <td>263.41</td>\n",
       "      <td>1979.78</td>\n",
       "      <td>11324.83</td>\n",
       "      <td>192.325858</td>\n",
       "      <td>8.667</td>\n",
       "      <td>False</td>\n",
       "    </tr>\n",
       "    <tr>\n",
       "      <th>8157</th>\n",
       "      <td>45</td>\n",
       "      <td>2012-12-14</td>\n",
       "      <td>43.55</td>\n",
       "      <td>3.637</td>\n",
       "      <td>3217.12</td>\n",
       "      <td>NaN</td>\n",
       "      <td>74.00</td>\n",
       "      <td>40.26</td>\n",
       "      <td>1747.66</td>\n",
       "      <td>192.358548</td>\n",
       "      <td>8.667</td>\n",
       "      <td>False</td>\n",
       "    </tr>\n",
       "  </tbody>\n",
       "</table>\n",
       "<p>1599 rows × 12 columns</p>\n",
       "</div>"
      ],
      "text/plain": [
       "      Store       Date  Temperature  Fuel_Price  MarkDown1  MarkDown2  \\\n",
       "1456      9 2010-02-05        38.01       2.572        NaN        NaN   \n",
       "1457      9 2010-02-12        37.08       2.548        NaN        NaN   \n",
       "1458      9 2010-02-19        43.06       2.514        NaN        NaN   \n",
       "1459      9 2010-02-26        43.83       2.561        NaN        NaN   \n",
       "1460      9 2010-03-05        48.43       2.625        NaN        NaN   \n",
       "...     ...        ...          ...         ...        ...        ...   \n",
       "8153     45 2012-11-16        45.61       3.750   18700.38     499.75   \n",
       "8154     45 2012-11-23        43.08       3.748    1005.79        NaN   \n",
       "8155     45 2012-11-30        37.43       3.729    2298.55        NaN   \n",
       "8156     45 2012-12-07        45.53       3.688    9273.32        NaN   \n",
       "8157     45 2012-12-14        43.55       3.637    3217.12        NaN   \n",
       "\n",
       "      MarkDown3  MarkDown4  MarkDown5         CPI  Unemployment  IsHoliday  \n",
       "1456        NaN        NaN        NaN  214.655459         6.415      False  \n",
       "1457        NaN        NaN        NaN  214.805653         6.415       True  \n",
       "1458        NaN        NaN        NaN  214.850618         6.415      False  \n",
       "1459        NaN        NaN        NaN  214.878045         6.415      False  \n",
       "1460        NaN        NaN        NaN  214.905472         6.415      False  \n",
       "...         ...        ...        ...         ...           ...        ...  \n",
       "8153      28.20    1800.78   10303.93  192.261619         8.667      False  \n",
       "8154   72542.01     484.70     620.12  192.283032         8.667       True  \n",
       "8155    2908.54     100.86    1344.84  192.304445         8.667      False  \n",
       "8156     263.41    1979.78   11324.83  192.325858         8.667      False  \n",
       "8157      74.00      40.26    1747.66  192.358548         8.667      False  \n",
       "\n",
       "[1599 rows x 12 columns]"
      ]
     },
     "execution_count": 69,
     "metadata": {},
     "output_type": "execute_result"
    }
   ],
   "source": [
    "features_clean_df"
   ]
  },
  {
   "cell_type": "markdown",
   "metadata": {},
   "source": [
    "Se observa que existen muchos valores NaN en las columnas MarkDown, cuantos NaN existen por columna?"
   ]
  },
  {
   "cell_type": "code",
   "execution_count": 70,
   "metadata": {},
   "outputs": [
    {
     "data": {
      "text/plain": [
       "Store              0\n",
       "Date               0\n",
       "Temperature        0\n",
       "Fuel_Price         0\n",
       "MarkDown1        967\n",
       "MarkDown2       1136\n",
       "MarkDown3       1011\n",
       "MarkDown4        969\n",
       "MarkDown5        967\n",
       "CPI                0\n",
       "Unemployment       0\n",
       "IsHoliday          0\n",
       "dtype: int64"
      ]
     },
     "execution_count": 70,
     "metadata": {},
     "output_type": "execute_result"
    }
   ],
   "source": [
    "features_clean_df.isna().sum()"
   ]
  },
  {
   "cell_type": "markdown",
   "metadata": {},
   "source": [
    "Existe un alto número de valores nulos en MarkDown1-5, es posible que en esas semanas no existieran promociones y descuentos, podriamos reemplazar esos valores por 0. Utilizaremos este supuesto más adelante"
   ]
  },
  {
   "cell_type": "markdown",
   "metadata": {},
   "source": [
    "## Limpieza de Ventas Semanales (tiendas y semanas)"
   ]
  },
  {
   "cell_type": "code",
   "execution_count": 79,
   "metadata": {},
   "outputs": [],
   "source": [
    "clean_weekly_sales = weekly_sales_df.query(\"Store in @valid_stores\").copy(deep=True)\n",
    "clean_weekly_sales['Date'] = pd.to_datetime(clean_weekly_sales['Date']) # Cast Date into datetime"
   ]
  },
  {
   "cell_type": "code",
   "execution_count": 91,
   "metadata": {},
   "outputs": [
    {
     "data": {
      "text/html": [
       "<div>\n",
       "<style scoped>\n",
       "    .dataframe tbody tr th:only-of-type {\n",
       "        vertical-align: middle;\n",
       "    }\n",
       "\n",
       "    .dataframe tbody tr th {\n",
       "        vertical-align: top;\n",
       "    }\n",
       "\n",
       "    .dataframe thead th {\n",
       "        text-align: right;\n",
       "    }\n",
       "</style>\n",
       "<table border=\"1\" class=\"dataframe\">\n",
       "  <thead>\n",
       "    <tr style=\"text-align: right;\">\n",
       "      <th></th>\n",
       "      <th>Store</th>\n",
       "      <th>Dept</th>\n",
       "      <th>Date</th>\n",
       "      <th>Weekly_Sales</th>\n",
       "      <th>IsHoliday</th>\n",
       "    </tr>\n",
       "  </thead>\n",
       "  <tbody>\n",
       "    <tr>\n",
       "      <th>78657</th>\n",
       "      <td>9</td>\n",
       "      <td>1</td>\n",
       "      <td>2010-02-05</td>\n",
       "      <td>12861.40</td>\n",
       "      <td>False</td>\n",
       "    </tr>\n",
       "    <tr>\n",
       "      <th>78658</th>\n",
       "      <td>9</td>\n",
       "      <td>1</td>\n",
       "      <td>2010-02-12</td>\n",
       "      <td>20273.94</td>\n",
       "      <td>True</td>\n",
       "    </tr>\n",
       "    <tr>\n",
       "      <th>78659</th>\n",
       "      <td>9</td>\n",
       "      <td>1</td>\n",
       "      <td>2010-02-19</td>\n",
       "      <td>14819.97</td>\n",
       "      <td>False</td>\n",
       "    </tr>\n",
       "    <tr>\n",
       "      <th>78660</th>\n",
       "      <td>9</td>\n",
       "      <td>1</td>\n",
       "      <td>2010-02-26</td>\n",
       "      <td>10530.98</td>\n",
       "      <td>False</td>\n",
       "    </tr>\n",
       "    <tr>\n",
       "      <th>78661</th>\n",
       "      <td>9</td>\n",
       "      <td>1</td>\n",
       "      <td>2010-03-05</td>\n",
       "      <td>10438.47</td>\n",
       "      <td>False</td>\n",
       "    </tr>\n",
       "    <tr>\n",
       "      <th>...</th>\n",
       "      <td>...</td>\n",
       "      <td>...</td>\n",
       "      <td>...</td>\n",
       "      <td>...</td>\n",
       "      <td>...</td>\n",
       "    </tr>\n",
       "    <tr>\n",
       "      <th>421565</th>\n",
       "      <td>45</td>\n",
       "      <td>98</td>\n",
       "      <td>2012-09-28</td>\n",
       "      <td>508.37</td>\n",
       "      <td>False</td>\n",
       "    </tr>\n",
       "    <tr>\n",
       "      <th>421566</th>\n",
       "      <td>45</td>\n",
       "      <td>98</td>\n",
       "      <td>2012-10-05</td>\n",
       "      <td>628.10</td>\n",
       "      <td>False</td>\n",
       "    </tr>\n",
       "    <tr>\n",
       "      <th>421567</th>\n",
       "      <td>45</td>\n",
       "      <td>98</td>\n",
       "      <td>2012-10-12</td>\n",
       "      <td>1061.02</td>\n",
       "      <td>False</td>\n",
       "    </tr>\n",
       "    <tr>\n",
       "      <th>421568</th>\n",
       "      <td>45</td>\n",
       "      <td>98</td>\n",
       "      <td>2012-10-19</td>\n",
       "      <td>760.01</td>\n",
       "      <td>False</td>\n",
       "    </tr>\n",
       "    <tr>\n",
       "      <th>421569</th>\n",
       "      <td>45</td>\n",
       "      <td>98</td>\n",
       "      <td>2012-10-26</td>\n",
       "      <td>1076.80</td>\n",
       "      <td>False</td>\n",
       "    </tr>\n",
       "  </tbody>\n",
       "</table>\n",
       "<p>106936 rows × 5 columns</p>\n",
       "</div>"
      ],
      "text/plain": [
       "        Store  Dept       Date  Weekly_Sales  IsHoliday\n",
       "78657       9     1 2010-02-05      12861.40      False\n",
       "78658       9     1 2010-02-12      20273.94       True\n",
       "78659       9     1 2010-02-19      14819.97      False\n",
       "78660       9     1 2010-02-26      10530.98      False\n",
       "78661       9     1 2010-03-05      10438.47      False\n",
       "...       ...   ...        ...           ...        ...\n",
       "421565     45    98 2012-09-28        508.37      False\n",
       "421566     45    98 2012-10-05        628.10      False\n",
       "421567     45    98 2012-10-12       1061.02      False\n",
       "421568     45    98 2012-10-19        760.01      False\n",
       "421569     45    98 2012-10-26       1076.80      False\n",
       "\n",
       "[106936 rows x 5 columns]"
      ]
     },
     "execution_count": 91,
     "metadata": {},
     "output_type": "execute_result"
    }
   ],
   "source": [
    "clean_weekly_sales"
   ]
  },
  {
   "cell_type": "markdown",
   "metadata": {},
   "source": [
    "No tenemos features específicas para Dept (departamentos), es posible que sea mejor realizar la predicciónes por las tiendas completas, y no una para cada departamento."
   ]
  },
  {
   "cell_type": "code",
   "execution_count": 97,
   "metadata": {},
   "outputs": [],
   "source": [
    "store_weekly_sales = clean_weekly_sales.groupby(['Store', 'Date', 'IsHoliday']).sum().reset_index().drop(columns=['Dept'])"
   ]
  },
  {
   "cell_type": "code",
   "execution_count": 102,
   "metadata": {},
   "outputs": [
    {
     "data": {
      "text/html": [
       "<div>\n",
       "<style scoped>\n",
       "    .dataframe tbody tr th:only-of-type {\n",
       "        vertical-align: middle;\n",
       "    }\n",
       "\n",
       "    .dataframe tbody tr th {\n",
       "        vertical-align: top;\n",
       "    }\n",
       "\n",
       "    .dataframe thead th {\n",
       "        text-align: right;\n",
       "    }\n",
       "</style>\n",
       "<table border=\"1\" class=\"dataframe\">\n",
       "  <thead>\n",
       "    <tr style=\"text-align: right;\">\n",
       "      <th></th>\n",
       "      <th>Store</th>\n",
       "      <th>Date</th>\n",
       "      <th>IsHoliday</th>\n",
       "      <th>Weekly_Sales</th>\n",
       "    </tr>\n",
       "  </thead>\n",
       "  <tbody>\n",
       "  </tbody>\n",
       "</table>\n",
       "</div>"
      ],
      "text/plain": [
       "Empty DataFrame\n",
       "Columns: [Store, Date, IsHoliday, Weekly_Sales]\n",
       "Index: []"
      ]
     },
     "execution_count": 102,
     "metadata": {},
     "output_type": "execute_result"
    }
   ],
   "source": [
    "# Revisar si existen pares duplicados [Store, Date] (por algún error en la columna IsHoliday)\n",
    "store_weekly_sales[store_weekly_sales.duplicated(subset=['Store','Date'], keep=False)]"
   ]
  },
  {
   "cell_type": "code",
   "execution_count": 104,
   "metadata": {},
   "outputs": [],
   "source": [
    "total_weekly_sales = clean_weekly_sales.groupby(['Date', 'IsHoliday']).sum().reset_index().drop(columns=['Store', 'Dept'])"
   ]
  },
  {
   "cell_type": "code",
   "execution_count": 107,
   "metadata": {},
   "outputs": [
    {
     "data": {
      "text/html": [
       "<div>\n",
       "<style scoped>\n",
       "    .dataframe tbody tr th:only-of-type {\n",
       "        vertical-align: middle;\n",
       "    }\n",
       "\n",
       "    .dataframe tbody tr th {\n",
       "        vertical-align: top;\n",
       "    }\n",
       "\n",
       "    .dataframe thead th {\n",
       "        text-align: right;\n",
       "    }\n",
       "</style>\n",
       "<table border=\"1\" class=\"dataframe\">\n",
       "  <thead>\n",
       "    <tr style=\"text-align: right;\">\n",
       "      <th></th>\n",
       "      <th>Date</th>\n",
       "      <th>IsHoliday</th>\n",
       "      <th>Weekly_Sales</th>\n",
       "    </tr>\n",
       "  </thead>\n",
       "  <tbody>\n",
       "  </tbody>\n",
       "</table>\n",
       "</div>"
      ],
      "text/plain": [
       "Empty DataFrame\n",
       "Columns: [Date, IsHoliday, Weekly_Sales]\n",
       "Index: []"
      ]
     },
     "execution_count": 107,
     "metadata": {},
     "output_type": "execute_result"
    }
   ],
   "source": [
    "# Revisar si existen pares duplicados [Date, IsHoliday] (por algún error en la columna IsHoliday)\n",
    "total_weekly_sales[total_weekly_sales.duplicated(subset=['IsHoliday','Date'], keep=False)]"
   ]
  },
  {
   "cell_type": "code",
   "execution_count": 108,
   "metadata": {},
   "outputs": [
    {
     "data": {
      "text/html": [
       "<div>\n",
       "<style scoped>\n",
       "    .dataframe tbody tr th:only-of-type {\n",
       "        vertical-align: middle;\n",
       "    }\n",
       "\n",
       "    .dataframe tbody tr th {\n",
       "        vertical-align: top;\n",
       "    }\n",
       "\n",
       "    .dataframe thead th {\n",
       "        text-align: right;\n",
       "    }\n",
       "</style>\n",
       "<table border=\"1\" class=\"dataframe\">\n",
       "  <thead>\n",
       "    <tr style=\"text-align: right;\">\n",
       "      <th></th>\n",
       "      <th>Date</th>\n",
       "      <th>IsHoliday</th>\n",
       "      <th>Weekly_Sales</th>\n",
       "    </tr>\n",
       "  </thead>\n",
       "  <tbody>\n",
       "    <tr>\n",
       "      <th>0</th>\n",
       "      <td>2010-02-05</td>\n",
       "      <td>False</td>\n",
       "      <td>11694898.08</td>\n",
       "    </tr>\n",
       "    <tr>\n",
       "      <th>1</th>\n",
       "      <td>2010-02-12</td>\n",
       "      <td>True</td>\n",
       "      <td>11338849.87</td>\n",
       "    </tr>\n",
       "    <tr>\n",
       "      <th>2</th>\n",
       "      <td>2010-02-19</td>\n",
       "      <td>False</td>\n",
       "      <td>11495206.55</td>\n",
       "    </tr>\n",
       "    <tr>\n",
       "      <th>3</th>\n",
       "      <td>2010-02-26</td>\n",
       "      <td>False</td>\n",
       "      <td>10401334.38</td>\n",
       "    </tr>\n",
       "    <tr>\n",
       "      <th>4</th>\n",
       "      <td>2010-03-05</td>\n",
       "      <td>False</td>\n",
       "      <td>11030603.21</td>\n",
       "    </tr>\n",
       "    <tr>\n",
       "      <th>...</th>\n",
       "      <td>...</td>\n",
       "      <td>...</td>\n",
       "      <td>...</td>\n",
       "    </tr>\n",
       "    <tr>\n",
       "      <th>138</th>\n",
       "      <td>2012-09-28</td>\n",
       "      <td>False</td>\n",
       "      <td>9801584.18</td>\n",
       "    </tr>\n",
       "    <tr>\n",
       "      <th>139</th>\n",
       "      <td>2012-10-05</td>\n",
       "      <td>False</td>\n",
       "      <td>10436585.09</td>\n",
       "    </tr>\n",
       "    <tr>\n",
       "      <th>140</th>\n",
       "      <td>2012-10-12</td>\n",
       "      <td>False</td>\n",
       "      <td>10208583.45</td>\n",
       "    </tr>\n",
       "    <tr>\n",
       "      <th>141</th>\n",
       "      <td>2012-10-19</td>\n",
       "      <td>False</td>\n",
       "      <td>10057643.14</td>\n",
       "    </tr>\n",
       "    <tr>\n",
       "      <th>142</th>\n",
       "      <td>2012-10-26</td>\n",
       "      <td>False</td>\n",
       "      <td>10386208.11</td>\n",
       "    </tr>\n",
       "  </tbody>\n",
       "</table>\n",
       "<p>143 rows × 3 columns</p>\n",
       "</div>"
      ],
      "text/plain": [
       "          Date  IsHoliday  Weekly_Sales\n",
       "0   2010-02-05      False   11694898.08\n",
       "1   2010-02-12       True   11338849.87\n",
       "2   2010-02-19      False   11495206.55\n",
       "3   2010-02-26      False   10401334.38\n",
       "4   2010-03-05      False   11030603.21\n",
       "..         ...        ...           ...\n",
       "138 2012-09-28      False    9801584.18\n",
       "139 2012-10-05      False   10436585.09\n",
       "140 2012-10-12      False   10208583.45\n",
       "141 2012-10-19      False   10057643.14\n",
       "142 2012-10-26      False   10386208.11\n",
       "\n",
       "[143 rows x 3 columns]"
      ]
     },
     "execution_count": 108,
     "metadata": {},
     "output_type": "execute_result"
    }
   ],
   "source": [
    "total_weekly_sales"
   ]
  },
  {
   "cell_type": "markdown",
   "metadata": {},
   "source": [
    "Tenemos registros para 143 semanas, y necesitamos predecir las siguientes 7 semanas"
   ]
  },
  {
   "cell_type": "markdown",
   "metadata": {},
   "source": [
    "## Algunos gráficos sobre ventas por departamento y tienda"
   ]
  },
  {
   "cell_type": "code",
   "execution_count": 113,
   "metadata": {},
   "outputs": [],
   "source": [
    "clean_weekly_sales_plt = clean_weekly_sales.set_index('Date')\n",
    "store_weekly_sales_plt = store_weekly_sales.set_index('Date')\n",
    "total_weekly_sales_plt = total_weekly_sales.set_index('Date')\n"
   ]
  },
  {
   "cell_type": "code",
   "execution_count": 116,
   "metadata": {},
   "outputs": [
    {
     "data": {
      "text/plain": [
       "<AxesSubplot: xlabel='Date'>"
      ]
     },
     "execution_count": 116,
     "metadata": {},
     "output_type": "execute_result"
    },
    {
     "data": {
      "image/png": "[encoded data removed]",
      "text/plain": [
       "<Figure size 640x480 with 1 Axes>"
      ]
     },
     "metadata": {},
     "output_type": "display_data"
    }
   ],
   "source": [
    "total_weekly_sales_plt.loc[:,['Weekly_Sales']].plot.line()"
   ]
  },
  {
   "cell_type": "markdown",
   "metadata": {},
   "source": [
    "En el gráfico de ventas totales se muestra un fuerte peak de ventas entre el periodo Noviembre - Diciembre (El mismo periodo que se pide pronosticar)"
   ]
  },
  {
   "cell_type": "code",
   "execution_count": 117,
   "metadata": {},
   "outputs": [
    {
     "data": {
      "text/html": [
       "<div>\n",
       "<style scoped>\n",
       "    .dataframe tbody tr th:only-of-type {\n",
       "        vertical-align: middle;\n",
       "    }\n",
       "\n",
       "    .dataframe tbody tr th {\n",
       "        vertical-align: top;\n",
       "    }\n",
       "\n",
       "    .dataframe thead th {\n",
       "        text-align: right;\n",
       "    }\n",
       "</style>\n",
       "<table border=\"1\" class=\"dataframe\">\n",
       "  <thead>\n",
       "    <tr style=\"text-align: right;\">\n",
       "      <th></th>\n",
       "      <th>Store</th>\n",
       "      <th>IsHoliday</th>\n",
       "      <th>Weekly_Sales</th>\n",
       "    </tr>\n",
       "    <tr>\n",
       "      <th>Date</th>\n",
       "      <th></th>\n",
       "      <th></th>\n",
       "      <th></th>\n",
       "    </tr>\n",
       "  </thead>\n",
       "  <tbody>\n",
       "    <tr>\n",
       "      <th>2010-02-05</th>\n",
       "      <td>9</td>\n",
       "      <td>False</td>\n",
       "      <td>549505.55</td>\n",
       "    </tr>\n",
       "    <tr>\n",
       "      <th>2010-02-12</th>\n",
       "      <td>9</td>\n",
       "      <td>True</td>\n",
       "      <td>552677.48</td>\n",
       "    </tr>\n",
       "  </tbody>\n",
       "</table>\n",
       "</div>"
      ],
      "text/plain": [
       "            Store  IsHoliday  Weekly_Sales\n",
       "Date                                      \n",
       "2010-02-05      9      False     549505.55\n",
       "2010-02-12      9       True     552677.48"
      ]
     },
     "execution_count": 117,
     "metadata": {},
     "output_type": "execute_result"
    }
   ],
   "source": [
    "store_weekly_sales_plt.head(2)"
   ]
  },
  {
   "cell_type": "code",
   "execution_count": 118,
   "metadata": {},
   "outputs": [
    {
     "data": {
      "text/plain": [
       "<AxesSubplot: xlabel='Date'>"
      ]
     },
     "execution_count": 118,
     "metadata": {},
     "output_type": "execute_result"
    },
    {
     "data": {
      "image/png": "[encoded data removed]",
      "text/plain": [
       "<Figure size 640x480 with 1 Axes>"
      ]
     },
     "metadata": {},
     "output_type": "display_data"
    }
   ],
   "source": [
    "store_weekly_sales_plt.query(\"Store == 9\").loc[:,['Weekly_Sales']].plot.line()"
   ]
  },
  {
   "cell_type": "code",
   "execution_count": 129,
   "metadata": {},
   "outputs": [
    {
     "data": {
      "text/plain": [
       "<AxesSubplot: xlabel='Date'>"
      ]
     },
     "execution_count": 129,
     "metadata": {},
     "output_type": "execute_result"
    },
    {
     "data": {
      "image/png": "[encoded data removed]",
      "text/plain": [
       "<Figure size 640x480 with 1 Axes>"
      ]
     },
     "metadata": {},
     "output_type": "display_data"
    }
   ],
   "source": [
    "store_weekly_sales_plt.query(\"Store == 45\").loc[:,['Weekly_Sales']].plot.line()"
   ]
  },
  {
   "cell_type": "markdown",
   "metadata": {},
   "source": [
    "En estas dos tiendas se mantienen patrones similares a los observados en la serie de tiempo total"
   ]
  },
  {
   "cell_type": "code",
   "execution_count": 119,
   "metadata": {},
   "outputs": [
    {
     "data": {
      "text/html": [
       "<div>\n",
       "<style scoped>\n",
       "    .dataframe tbody tr th:only-of-type {\n",
       "        vertical-align: middle;\n",
       "    }\n",
       "\n",
       "    .dataframe tbody tr th {\n",
       "        vertical-align: top;\n",
       "    }\n",
       "\n",
       "    .dataframe thead th {\n",
       "        text-align: right;\n",
       "    }\n",
       "</style>\n",
       "<table border=\"1\" class=\"dataframe\">\n",
       "  <thead>\n",
       "    <tr style=\"text-align: right;\">\n",
       "      <th></th>\n",
       "      <th>Store</th>\n",
       "      <th>Dept</th>\n",
       "      <th>Weekly_Sales</th>\n",
       "      <th>IsHoliday</th>\n",
       "    </tr>\n",
       "    <tr>\n",
       "      <th>Date</th>\n",
       "      <th></th>\n",
       "      <th></th>\n",
       "      <th></th>\n",
       "      <th></th>\n",
       "    </tr>\n",
       "  </thead>\n",
       "  <tbody>\n",
       "    <tr>\n",
       "      <th>2010-02-05</th>\n",
       "      <td>9</td>\n",
       "      <td>1</td>\n",
       "      <td>12861.40</td>\n",
       "      <td>False</td>\n",
       "    </tr>\n",
       "    <tr>\n",
       "      <th>2010-02-12</th>\n",
       "      <td>9</td>\n",
       "      <td>1</td>\n",
       "      <td>20273.94</td>\n",
       "      <td>True</td>\n",
       "    </tr>\n",
       "  </tbody>\n",
       "</table>\n",
       "</div>"
      ],
      "text/plain": [
       "            Store  Dept  Weekly_Sales  IsHoliday\n",
       "Date                                            \n",
       "2010-02-05      9     1      12861.40      False\n",
       "2010-02-12      9     1      20273.94       True"
      ]
     },
     "execution_count": 119,
     "metadata": {},
     "output_type": "execute_result"
    }
   ],
   "source": [
    "clean_weekly_sales_plt.head(2)"
   ]
  },
  {
   "cell_type": "code",
   "execution_count": 122,
   "metadata": {},
   "outputs": [
    {
     "data": {
      "text/plain": [
       "<AxesSubplot: xlabel='Date'>"
      ]
     },
     "execution_count": 122,
     "metadata": {},
     "output_type": "execute_result"
    },
    {
     "data": {
      "image/png": "[encoded data removed]",
      "text/plain": [
       "<Figure size 640x480 with 1 Axes>"
      ]
     },
     "metadata": {},
     "output_type": "display_data"
    }
   ],
   "source": [
    "clean_weekly_sales_plt.query(\"Store == 9 and Dept == 1\").loc[:,['Weekly_Sales']].plot.line()"
   ]
  },
  {
   "cell_type": "code",
   "execution_count": 127,
   "metadata": {},
   "outputs": [
    {
     "data": {
      "text/plain": [
       "<AxesSubplot: xlabel='Date'>"
      ]
     },
     "execution_count": 127,
     "metadata": {},
     "output_type": "execute_result"
    },
    {
     "data": {
      "image/png": "[encoded data removed]",
      "text/plain": [
       "<Figure size 640x480 with 1 Axes>"
      ]
     },
     "metadata": {},
     "output_type": "display_data"
    }
   ],
   "source": [
    "clean_weekly_sales_plt.query(\"Store == 9 and Dept == 2\").loc[:,['Weekly_Sales']].plot.line()"
   ]
  },
  {
   "cell_type": "markdown",
   "metadata": {},
   "source": [
    "Cuando observamos estos departamentos, se pierde el patrón de ventas de la serie total y de tienda. Añadir la separación de departamentos puede añadir mucho ruido a la series de tiempo."
   ]
  },
  {
   "cell_type": "markdown",
   "metadata": {},
   "source": [
    "### Efecto Holidays en Ventas"
   ]
  },
  {
   "cell_type": "code",
   "execution_count": 132,
   "metadata": {},
   "outputs": [
    {
     "data": {
      "text/plain": [
       "<AxesSubplot: xlabel='Date'>"
      ]
     },
     "execution_count": 132,
     "metadata": {},
     "output_type": "execute_result"
    },
    {
     "data": {
      "image/png": "[encoded data removed]",
      "text/plain": [
       "<Figure size 640x480 with 1 Axes>"
      ]
     },
     "metadata": {},
     "output_type": "display_data"
    }
   ],
   "source": [
    "total_weekly_sales_plt.query(\"IsHoliday == True\").loc[:,['Weekly_Sales']].plot.line()"
   ]
  },
  {
   "cell_type": "code",
   "execution_count": 133,
   "metadata": {},
   "outputs": [
    {
     "data": {
      "text/plain": [
       "<AxesSubplot: xlabel='Date'>"
      ]
     },
     "execution_count": 133,
     "metadata": {},
     "output_type": "execute_result"
    },
    {
     "data": {
      "image/png": "[encoded data removed]",
      "text/plain": [
       "<Figure size 640x480 with 1 Axes>"
      ]
     },
     "metadata": {},
     "output_type": "display_data"
    }
   ],
   "source": [
    "total_weekly_sales_plt.query(\"IsHoliday == False\").loc[:,['Weekly_Sales']].plot.line()"
   ]
  },
  {
   "cell_type": "markdown",
   "metadata": {},
   "source": [
    "El tag IsHoliday no captura correctamente el efecto del peak de ventas, parece tener más relación con el número de la semana "
   ]
  },
  {
   "cell_type": "markdown",
   "metadata": {},
   "source": [
    "## Semanas a predecir vs mismas semanas 2011 y 2010\n",
    "Es posible que la magnitud de las ventas entre estas semanas sea tan alto, que el resto de las semanas del año no sean tan útiles para predecir."
   ]
  },
  {
   "cell_type": "code",
   "execution_count": 152,
   "metadata": {},
   "outputs": [],
   "source": [
    "dates = {'Date': [\n",
    "    '2012-11-02',\n",
    "    '2012-11-09',\n",
    "    '2012-11-16',\n",
    "    '2012-11-23',\n",
    "    '2012-11-30',\n",
    "    '2012-12-07',\n",
    "    '2012-12-14']}\n",
    "forecast_dates = pd.DataFrame(data=dates)\n",
    "forecast_dates['Date'] = pd.to_datetime(forecast_dates['Date'])\n",
    "forecast_dates['Week'] = forecast_dates['Date'].dt.isocalendar().week"
   ]
  },
  {
   "cell_type": "code",
   "execution_count": 153,
   "metadata": {},
   "outputs": [
    {
     "data": {
      "text/html": [
       "<div>\n",
       "<style scoped>\n",
       "    .dataframe tbody tr th:only-of-type {\n",
       "        vertical-align: middle;\n",
       "    }\n",
       "\n",
       "    .dataframe tbody tr th {\n",
       "        vertical-align: top;\n",
       "    }\n",
       "\n",
       "    .dataframe thead th {\n",
       "        text-align: right;\n",
       "    }\n",
       "</style>\n",
       "<table border=\"1\" class=\"dataframe\">\n",
       "  <thead>\n",
       "    <tr style=\"text-align: right;\">\n",
       "      <th></th>\n",
       "      <th>Date</th>\n",
       "      <th>Week</th>\n",
       "    </tr>\n",
       "  </thead>\n",
       "  <tbody>\n",
       "    <tr>\n",
       "      <th>0</th>\n",
       "      <td>2012-11-02</td>\n",
       "      <td>44</td>\n",
       "    </tr>\n",
       "    <tr>\n",
       "      <th>1</th>\n",
       "      <td>2012-11-09</td>\n",
       "      <td>45</td>\n",
       "    </tr>\n",
       "    <tr>\n",
       "      <th>2</th>\n",
       "      <td>2012-11-16</td>\n",
       "      <td>46</td>\n",
       "    </tr>\n",
       "    <tr>\n",
       "      <th>3</th>\n",
       "      <td>2012-11-23</td>\n",
       "      <td>47</td>\n",
       "    </tr>\n",
       "    <tr>\n",
       "      <th>4</th>\n",
       "      <td>2012-11-30</td>\n",
       "      <td>48</td>\n",
       "    </tr>\n",
       "    <tr>\n",
       "      <th>5</th>\n",
       "      <td>2012-12-07</td>\n",
       "      <td>49</td>\n",
       "    </tr>\n",
       "    <tr>\n",
       "      <th>6</th>\n",
       "      <td>2012-12-14</td>\n",
       "      <td>50</td>\n",
       "    </tr>\n",
       "  </tbody>\n",
       "</table>\n",
       "</div>"
      ],
      "text/plain": [
       "        Date  Week\n",
       "0 2012-11-02    44\n",
       "1 2012-11-09    45\n",
       "2 2012-11-16    46\n",
       "3 2012-11-23    47\n",
       "4 2012-11-30    48\n",
       "5 2012-12-07    49\n",
       "6 2012-12-14    50"
      ]
     },
     "execution_count": 153,
     "metadata": {},
     "output_type": "execute_result"
    }
   ],
   "source": [
    "forecast_dates"
   ]
  },
  {
   "cell_type": "code",
   "execution_count": 160,
   "metadata": {},
   "outputs": [
    {
     "data": {
      "text/html": [
       "<div>\n",
       "<style scoped>\n",
       "    .dataframe tbody tr th:only-of-type {\n",
       "        vertical-align: middle;\n",
       "    }\n",
       "\n",
       "    .dataframe tbody tr th {\n",
       "        vertical-align: top;\n",
       "    }\n",
       "\n",
       "    .dataframe thead th {\n",
       "        text-align: right;\n",
       "    }\n",
       "</style>\n",
       "<table border=\"1\" class=\"dataframe\">\n",
       "  <thead>\n",
       "    <tr style=\"text-align: right;\">\n",
       "      <th></th>\n",
       "      <th>Date</th>\n",
       "      <th>IsHoliday</th>\n",
       "      <th>Weekly_Sales</th>\n",
       "      <th>Week</th>\n",
       "    </tr>\n",
       "  </thead>\n",
       "  <tbody>\n",
       "    <tr>\n",
       "      <th>0</th>\n",
       "      <td>2010-02-05</td>\n",
       "      <td>False</td>\n",
       "      <td>11694898.08</td>\n",
       "      <td>5</td>\n",
       "    </tr>\n",
       "    <tr>\n",
       "      <th>1</th>\n",
       "      <td>2010-02-12</td>\n",
       "      <td>True</td>\n",
       "      <td>11338849.87</td>\n",
       "      <td>6</td>\n",
       "    </tr>\n",
       "    <tr>\n",
       "      <th>2</th>\n",
       "      <td>2010-02-19</td>\n",
       "      <td>False</td>\n",
       "      <td>11495206.55</td>\n",
       "      <td>7</td>\n",
       "    </tr>\n",
       "    <tr>\n",
       "      <th>3</th>\n",
       "      <td>2010-02-26</td>\n",
       "      <td>False</td>\n",
       "      <td>10401334.38</td>\n",
       "      <td>8</td>\n",
       "    </tr>\n",
       "    <tr>\n",
       "      <th>4</th>\n",
       "      <td>2010-03-05</td>\n",
       "      <td>False</td>\n",
       "      <td>11030603.21</td>\n",
       "      <td>9</td>\n",
       "    </tr>\n",
       "    <tr>\n",
       "      <th>...</th>\n",
       "      <td>...</td>\n",
       "      <td>...</td>\n",
       "      <td>...</td>\n",
       "      <td>...</td>\n",
       "    </tr>\n",
       "    <tr>\n",
       "      <th>138</th>\n",
       "      <td>2012-09-28</td>\n",
       "      <td>False</td>\n",
       "      <td>9801584.18</td>\n",
       "      <td>39</td>\n",
       "    </tr>\n",
       "    <tr>\n",
       "      <th>139</th>\n",
       "      <td>2012-10-05</td>\n",
       "      <td>False</td>\n",
       "      <td>10436585.09</td>\n",
       "      <td>40</td>\n",
       "    </tr>\n",
       "    <tr>\n",
       "      <th>140</th>\n",
       "      <td>2012-10-12</td>\n",
       "      <td>False</td>\n",
       "      <td>10208583.45</td>\n",
       "      <td>41</td>\n",
       "    </tr>\n",
       "    <tr>\n",
       "      <th>141</th>\n",
       "      <td>2012-10-19</td>\n",
       "      <td>False</td>\n",
       "      <td>10057643.14</td>\n",
       "      <td>42</td>\n",
       "    </tr>\n",
       "    <tr>\n",
       "      <th>142</th>\n",
       "      <td>2012-10-26</td>\n",
       "      <td>False</td>\n",
       "      <td>10386208.11</td>\n",
       "      <td>43</td>\n",
       "    </tr>\n",
       "  </tbody>\n",
       "</table>\n",
       "<p>143 rows × 4 columns</p>\n",
       "</div>"
      ],
      "text/plain": [
       "          Date  IsHoliday  Weekly_Sales  Week\n",
       "0   2010-02-05      False   11694898.08     5\n",
       "1   2010-02-12       True   11338849.87     6\n",
       "2   2010-02-19      False   11495206.55     7\n",
       "3   2010-02-26      False   10401334.38     8\n",
       "4   2010-03-05      False   11030603.21     9\n",
       "..         ...        ...           ...   ...\n",
       "138 2012-09-28      False    9801584.18    39\n",
       "139 2012-10-05      False   10436585.09    40\n",
       "140 2012-10-12      False   10208583.45    41\n",
       "141 2012-10-19      False   10057643.14    42\n",
       "142 2012-10-26      False   10386208.11    43\n",
       "\n",
       "[143 rows x 4 columns]"
      ]
     },
     "execution_count": 160,
     "metadata": {},
     "output_type": "execute_result"
    }
   ],
   "source": [
    "week_comparison_total = total_weekly_sales_plt.reset_index()\n",
    "week_comparison_total['Week'] = week_comparison_total['Date'].dt.isocalendar().week\n",
    "week_comparison_total"
   ]
  },
  {
   "cell_type": "code",
   "execution_count": 163,
   "metadata": {},
   "outputs": [
    {
     "data": {
      "text/html": [
       "<div>\n",
       "<style scoped>\n",
       "    .dataframe tbody tr th:only-of-type {\n",
       "        vertical-align: middle;\n",
       "    }\n",
       "\n",
       "    .dataframe tbody tr th {\n",
       "        vertical-align: top;\n",
       "    }\n",
       "\n",
       "    .dataframe thead th {\n",
       "        text-align: right;\n",
       "    }\n",
       "</style>\n",
       "<table border=\"1\" class=\"dataframe\">\n",
       "  <thead>\n",
       "    <tr style=\"text-align: right;\">\n",
       "      <th></th>\n",
       "      <th>Date</th>\n",
       "      <th>IsHoliday</th>\n",
       "      <th>Weekly_Sales</th>\n",
       "      <th>Week</th>\n",
       "    </tr>\n",
       "  </thead>\n",
       "  <tbody>\n",
       "    <tr>\n",
       "      <th>35</th>\n",
       "      <td>2010-10-08</td>\n",
       "      <td>False</td>\n",
       "      <td>10064797.88</td>\n",
       "      <td>40</td>\n",
       "    </tr>\n",
       "    <tr>\n",
       "      <th>36</th>\n",
       "      <td>2010-10-15</td>\n",
       "      <td>False</td>\n",
       "      <td>9525027.36</td>\n",
       "      <td>41</td>\n",
       "    </tr>\n",
       "    <tr>\n",
       "      <th>37</th>\n",
       "      <td>2010-10-22</td>\n",
       "      <td>False</td>\n",
       "      <td>9756376.71</td>\n",
       "      <td>42</td>\n",
       "    </tr>\n",
       "    <tr>\n",
       "      <th>38</th>\n",
       "      <td>2010-10-29</td>\n",
       "      <td>False</td>\n",
       "      <td>9977792.18</td>\n",
       "      <td>43</td>\n",
       "    </tr>\n",
       "    <tr>\n",
       "      <th>39</th>\n",
       "      <td>2010-11-05</td>\n",
       "      <td>False</td>\n",
       "      <td>10216271.81</td>\n",
       "      <td>44</td>\n",
       "    </tr>\n",
       "    <tr>\n",
       "      <th>40</th>\n",
       "      <td>2010-11-12</td>\n",
       "      <td>False</td>\n",
       "      <td>10577447.84</td>\n",
       "      <td>45</td>\n",
       "    </tr>\n",
       "    <tr>\n",
       "      <th>41</th>\n",
       "      <td>2010-11-19</td>\n",
       "      <td>False</td>\n",
       "      <td>10363491.89</td>\n",
       "      <td>46</td>\n",
       "    </tr>\n",
       "    <tr>\n",
       "      <th>42</th>\n",
       "      <td>2010-11-26</td>\n",
       "      <td>True</td>\n",
       "      <td>17045596.27</td>\n",
       "      <td>47</td>\n",
       "    </tr>\n",
       "    <tr>\n",
       "      <th>43</th>\n",
       "      <td>2010-12-03</td>\n",
       "      <td>False</td>\n",
       "      <td>12288233.17</td>\n",
       "      <td>48</td>\n",
       "    </tr>\n",
       "    <tr>\n",
       "      <th>44</th>\n",
       "      <td>2010-12-10</td>\n",
       "      <td>False</td>\n",
       "      <td>13674443.38</td>\n",
       "      <td>49</td>\n",
       "    </tr>\n",
       "    <tr>\n",
       "      <th>45</th>\n",
       "      <td>2010-12-17</td>\n",
       "      <td>False</td>\n",
       "      <td>15764542.40</td>\n",
       "      <td>50</td>\n",
       "    </tr>\n",
       "    <tr>\n",
       "      <th>46</th>\n",
       "      <td>2010-12-24</td>\n",
       "      <td>False</td>\n",
       "      <td>20827950.13</td>\n",
       "      <td>51</td>\n",
       "    </tr>\n",
       "    <tr>\n",
       "      <th>47</th>\n",
       "      <td>2010-12-31</td>\n",
       "      <td>True</td>\n",
       "      <td>8985987.23</td>\n",
       "      <td>52</td>\n",
       "    </tr>\n",
       "    <tr>\n",
       "      <th>87</th>\n",
       "      <td>2011-10-07</td>\n",
       "      <td>False</td>\n",
       "      <td>10229117.79</td>\n",
       "      <td>40</td>\n",
       "    </tr>\n",
       "    <tr>\n",
       "      <th>88</th>\n",
       "      <td>2011-10-14</td>\n",
       "      <td>False</td>\n",
       "      <td>9666920.39</td>\n",
       "      <td>41</td>\n",
       "    </tr>\n",
       "    <tr>\n",
       "      <th>89</th>\n",
       "      <td>2011-10-21</td>\n",
       "      <td>False</td>\n",
       "      <td>10318466.03</td>\n",
       "      <td>42</td>\n",
       "    </tr>\n",
       "    <tr>\n",
       "      <th>90</th>\n",
       "      <td>2011-10-28</td>\n",
       "      <td>False</td>\n",
       "      <td>10568047.84</td>\n",
       "      <td>43</td>\n",
       "    </tr>\n",
       "    <tr>\n",
       "      <th>91</th>\n",
       "      <td>2011-11-04</td>\n",
       "      <td>False</td>\n",
       "      <td>10777647.16</td>\n",
       "      <td>44</td>\n",
       "    </tr>\n",
       "    <tr>\n",
       "      <th>92</th>\n",
       "      <td>2011-11-11</td>\n",
       "      <td>False</td>\n",
       "      <td>11119605.10</td>\n",
       "      <td>45</td>\n",
       "    </tr>\n",
       "    <tr>\n",
       "      <th>93</th>\n",
       "      <td>2011-11-18</td>\n",
       "      <td>False</td>\n",
       "      <td>10450311.11</td>\n",
       "      <td>46</td>\n",
       "    </tr>\n",
       "    <tr>\n",
       "      <th>94</th>\n",
       "      <td>2011-11-25</td>\n",
       "      <td>True</td>\n",
       "      <td>16880408.80</td>\n",
       "      <td>47</td>\n",
       "    </tr>\n",
       "    <tr>\n",
       "      <th>95</th>\n",
       "      <td>2011-12-02</td>\n",
       "      <td>False</td>\n",
       "      <td>11810984.15</td>\n",
       "      <td>48</td>\n",
       "    </tr>\n",
       "    <tr>\n",
       "      <th>96</th>\n",
       "      <td>2011-12-09</td>\n",
       "      <td>False</td>\n",
       "      <td>13252775.90</td>\n",
       "      <td>49</td>\n",
       "    </tr>\n",
       "    <tr>\n",
       "      <th>97</th>\n",
       "      <td>2011-12-16</td>\n",
       "      <td>False</td>\n",
       "      <td>14787355.89</td>\n",
       "      <td>50</td>\n",
       "    </tr>\n",
       "    <tr>\n",
       "      <th>98</th>\n",
       "      <td>2011-12-23</td>\n",
       "      <td>False</td>\n",
       "      <td>19274415.02</td>\n",
       "      <td>51</td>\n",
       "    </tr>\n",
       "    <tr>\n",
       "      <th>99</th>\n",
       "      <td>2011-12-30</td>\n",
       "      <td>True</td>\n",
       "      <td>10664370.08</td>\n",
       "      <td>52</td>\n",
       "    </tr>\n",
       "    <tr>\n",
       "      <th>139</th>\n",
       "      <td>2012-10-05</td>\n",
       "      <td>False</td>\n",
       "      <td>10436585.09</td>\n",
       "      <td>40</td>\n",
       "    </tr>\n",
       "    <tr>\n",
       "      <th>140</th>\n",
       "      <td>2012-10-12</td>\n",
       "      <td>False</td>\n",
       "      <td>10208583.45</td>\n",
       "      <td>41</td>\n",
       "    </tr>\n",
       "    <tr>\n",
       "      <th>141</th>\n",
       "      <td>2012-10-19</td>\n",
       "      <td>False</td>\n",
       "      <td>10057643.14</td>\n",
       "      <td>42</td>\n",
       "    </tr>\n",
       "    <tr>\n",
       "      <th>142</th>\n",
       "      <td>2012-10-26</td>\n",
       "      <td>False</td>\n",
       "      <td>10386208.11</td>\n",
       "      <td>43</td>\n",
       "    </tr>\n",
       "  </tbody>\n",
       "</table>\n",
       "</div>"
      ],
      "text/plain": [
       "          Date  IsHoliday  Weekly_Sales  Week\n",
       "35  2010-10-08      False   10064797.88    40\n",
       "36  2010-10-15      False    9525027.36    41\n",
       "37  2010-10-22      False    9756376.71    42\n",
       "38  2010-10-29      False    9977792.18    43\n",
       "39  2010-11-05      False   10216271.81    44\n",
       "40  2010-11-12      False   10577447.84    45\n",
       "41  2010-11-19      False   10363491.89    46\n",
       "42  2010-11-26       True   17045596.27    47\n",
       "43  2010-12-03      False   12288233.17    48\n",
       "44  2010-12-10      False   13674443.38    49\n",
       "45  2010-12-17      False   15764542.40    50\n",
       "46  2010-12-24      False   20827950.13    51\n",
       "47  2010-12-31       True    8985987.23    52\n",
       "87  2011-10-07      False   10229117.79    40\n",
       "88  2011-10-14      False    9666920.39    41\n",
       "89  2011-10-21      False   10318466.03    42\n",
       "90  2011-10-28      False   10568047.84    43\n",
       "91  2011-11-04      False   10777647.16    44\n",
       "92  2011-11-11      False   11119605.10    45\n",
       "93  2011-11-18      False   10450311.11    46\n",
       "94  2011-11-25       True   16880408.80    47\n",
       "95  2011-12-02      False   11810984.15    48\n",
       "96  2011-12-09      False   13252775.90    49\n",
       "97  2011-12-16      False   14787355.89    50\n",
       "98  2011-12-23      False   19274415.02    51\n",
       "99  2011-12-30       True   10664370.08    52\n",
       "139 2012-10-05      False   10436585.09    40\n",
       "140 2012-10-12      False   10208583.45    41\n",
       "141 2012-10-19      False   10057643.14    42\n",
       "142 2012-10-26      False   10386208.11    43"
      ]
     },
     "execution_count": 163,
     "metadata": {},
     "output_type": "execute_result"
    }
   ],
   "source": [
    "week_comparison_total.query(\"40 <= Week <= 52\")"
   ]
  },
  {
   "cell_type": "code",
   "execution_count": 164,
   "metadata": {},
   "outputs": [
    {
     "data": {
      "text/html": [
       "<div>\n",
       "<style scoped>\n",
       "    .dataframe tbody tr th:only-of-type {\n",
       "        vertical-align: middle;\n",
       "    }\n",
       "\n",
       "    .dataframe tbody tr th {\n",
       "        vertical-align: top;\n",
       "    }\n",
       "\n",
       "    .dataframe thead th {\n",
       "        text-align: right;\n",
       "    }\n",
       "</style>\n",
       "<table border=\"1\" class=\"dataframe\">\n",
       "  <thead>\n",
       "    <tr style=\"text-align: right;\">\n",
       "      <th></th>\n",
       "      <th>Date</th>\n",
       "      <th>IsHoliday</th>\n",
       "      <th>Weekly_Sales</th>\n",
       "      <th>Week</th>\n",
       "    </tr>\n",
       "  </thead>\n",
       "  <tbody>\n",
       "    <tr>\n",
       "      <th>31</th>\n",
       "      <td>2010-09-10</td>\n",
       "      <td>True</td>\n",
       "      <td>9971681.99</td>\n",
       "      <td>36</td>\n",
       "    </tr>\n",
       "    <tr>\n",
       "      <th>32</th>\n",
       "      <td>2010-09-17</td>\n",
       "      <td>False</td>\n",
       "      <td>9553476.54</td>\n",
       "      <td>37</td>\n",
       "    </tr>\n",
       "    <tr>\n",
       "      <th>33</th>\n",
       "      <td>2010-09-24</td>\n",
       "      <td>False</td>\n",
       "      <td>9176907.35</td>\n",
       "      <td>38</td>\n",
       "    </tr>\n",
       "    <tr>\n",
       "      <th>34</th>\n",
       "      <td>2010-10-01</td>\n",
       "      <td>False</td>\n",
       "      <td>9341212.98</td>\n",
       "      <td>39</td>\n",
       "    </tr>\n",
       "    <tr>\n",
       "      <th>35</th>\n",
       "      <td>2010-10-08</td>\n",
       "      <td>False</td>\n",
       "      <td>10064797.88</td>\n",
       "      <td>40</td>\n",
       "    </tr>\n",
       "    <tr>\n",
       "      <th>36</th>\n",
       "      <td>2010-10-15</td>\n",
       "      <td>False</td>\n",
       "      <td>9525027.36</td>\n",
       "      <td>41</td>\n",
       "    </tr>\n",
       "    <tr>\n",
       "      <th>37</th>\n",
       "      <td>2010-10-22</td>\n",
       "      <td>False</td>\n",
       "      <td>9756376.71</td>\n",
       "      <td>42</td>\n",
       "    </tr>\n",
       "    <tr>\n",
       "      <th>38</th>\n",
       "      <td>2010-10-29</td>\n",
       "      <td>False</td>\n",
       "      <td>9977792.18</td>\n",
       "      <td>43</td>\n",
       "    </tr>\n",
       "    <tr>\n",
       "      <th>83</th>\n",
       "      <td>2011-09-09</td>\n",
       "      <td>True</td>\n",
       "      <td>10104891.14</td>\n",
       "      <td>36</td>\n",
       "    </tr>\n",
       "    <tr>\n",
       "      <th>84</th>\n",
       "      <td>2011-09-16</td>\n",
       "      <td>False</td>\n",
       "      <td>9354382.06</td>\n",
       "      <td>37</td>\n",
       "    </tr>\n",
       "    <tr>\n",
       "      <th>85</th>\n",
       "      <td>2011-09-23</td>\n",
       "      <td>False</td>\n",
       "      <td>9374616.73</td>\n",
       "      <td>38</td>\n",
       "    </tr>\n",
       "    <tr>\n",
       "      <th>86</th>\n",
       "      <td>2011-09-30</td>\n",
       "      <td>False</td>\n",
       "      <td>9340027.21</td>\n",
       "      <td>39</td>\n",
       "    </tr>\n",
       "    <tr>\n",
       "      <th>87</th>\n",
       "      <td>2011-10-07</td>\n",
       "      <td>False</td>\n",
       "      <td>10229117.79</td>\n",
       "      <td>40</td>\n",
       "    </tr>\n",
       "    <tr>\n",
       "      <th>88</th>\n",
       "      <td>2011-10-14</td>\n",
       "      <td>False</td>\n",
       "      <td>9666920.39</td>\n",
       "      <td>41</td>\n",
       "    </tr>\n",
       "    <tr>\n",
       "      <th>89</th>\n",
       "      <td>2011-10-21</td>\n",
       "      <td>False</td>\n",
       "      <td>10318466.03</td>\n",
       "      <td>42</td>\n",
       "    </tr>\n",
       "    <tr>\n",
       "      <th>90</th>\n",
       "      <td>2011-10-28</td>\n",
       "      <td>False</td>\n",
       "      <td>10568047.84</td>\n",
       "      <td>43</td>\n",
       "    </tr>\n",
       "    <tr>\n",
       "      <th>135</th>\n",
       "      <td>2012-09-07</td>\n",
       "      <td>True</td>\n",
       "      <td>10389469.93</td>\n",
       "      <td>36</td>\n",
       "    </tr>\n",
       "    <tr>\n",
       "      <th>136</th>\n",
       "      <td>2012-09-14</td>\n",
       "      <td>False</td>\n",
       "      <td>9544108.66</td>\n",
       "      <td>37</td>\n",
       "    </tr>\n",
       "    <tr>\n",
       "      <th>137</th>\n",
       "      <td>2012-09-21</td>\n",
       "      <td>False</td>\n",
       "      <td>9720423.99</td>\n",
       "      <td>38</td>\n",
       "    </tr>\n",
       "    <tr>\n",
       "      <th>138</th>\n",
       "      <td>2012-09-28</td>\n",
       "      <td>False</td>\n",
       "      <td>9801584.18</td>\n",
       "      <td>39</td>\n",
       "    </tr>\n",
       "    <tr>\n",
       "      <th>139</th>\n",
       "      <td>2012-10-05</td>\n",
       "      <td>False</td>\n",
       "      <td>10436585.09</td>\n",
       "      <td>40</td>\n",
       "    </tr>\n",
       "    <tr>\n",
       "      <th>140</th>\n",
       "      <td>2012-10-12</td>\n",
       "      <td>False</td>\n",
       "      <td>10208583.45</td>\n",
       "      <td>41</td>\n",
       "    </tr>\n",
       "    <tr>\n",
       "      <th>141</th>\n",
       "      <td>2012-10-19</td>\n",
       "      <td>False</td>\n",
       "      <td>10057643.14</td>\n",
       "      <td>42</td>\n",
       "    </tr>\n",
       "    <tr>\n",
       "      <th>142</th>\n",
       "      <td>2012-10-26</td>\n",
       "      <td>False</td>\n",
       "      <td>10386208.11</td>\n",
       "      <td>43</td>\n",
       "    </tr>\n",
       "  </tbody>\n",
       "</table>\n",
       "</div>"
      ],
      "text/plain": [
       "          Date  IsHoliday  Weekly_Sales  Week\n",
       "31  2010-09-10       True    9971681.99    36\n",
       "32  2010-09-17      False    9553476.54    37\n",
       "33  2010-09-24      False    9176907.35    38\n",
       "34  2010-10-01      False    9341212.98    39\n",
       "35  2010-10-08      False   10064797.88    40\n",
       "36  2010-10-15      False    9525027.36    41\n",
       "37  2010-10-22      False    9756376.71    42\n",
       "38  2010-10-29      False    9977792.18    43\n",
       "83  2011-09-09       True   10104891.14    36\n",
       "84  2011-09-16      False    9354382.06    37\n",
       "85  2011-09-23      False    9374616.73    38\n",
       "86  2011-09-30      False    9340027.21    39\n",
       "87  2011-10-07      False   10229117.79    40\n",
       "88  2011-10-14      False    9666920.39    41\n",
       "89  2011-10-21      False   10318466.03    42\n",
       "90  2011-10-28      False   10568047.84    43\n",
       "135 2012-09-07       True   10389469.93    36\n",
       "136 2012-09-14      False    9544108.66    37\n",
       "137 2012-09-21      False    9720423.99    38\n",
       "138 2012-09-28      False    9801584.18    39\n",
       "139 2012-10-05      False   10436585.09    40\n",
       "140 2012-10-12      False   10208583.45    41\n",
       "141 2012-10-19      False   10057643.14    42\n",
       "142 2012-10-26      False   10386208.11    43"
      ]
     },
     "execution_count": 164,
     "metadata": {},
     "output_type": "execute_result"
    }
   ],
   "source": [
    "week_comparison_total.query(\"36 <= Week <= 43\")"
   ]
  },
  {
   "cell_type": "markdown",
   "metadata": {},
   "source": [
    "# Conclusiones"
   ]
  },
  {
   "cell_type": "markdown",
   "metadata": {},
   "source": [
    "No existe un patrón claro entre la features IsHoliday, Markdown, Temperature, Fuel, CPI y Unenmployment y las ventas de las semanas 44-50."
   ]
  },
  {
   "cell_type": "markdown",
   "metadata": {},
   "source": [
    "Entre la semana 47 y 51 de los años 2010 y 2011 existe un notorio peak de demanda. Lo que se puede explicar por las compras previas a la navidad, y día de thanksgiving en USA. Es esperable un peak similar para el año 2012 y los siguientes."
   ]
  },
  {
   "cell_type": "markdown",
   "metadata": {},
   "source": [
    "La magnitud de ventas es similar en las últimas 7 semanas (36-43) entre los años 2010, 2011 y 2012"
   ]
  },
  {
   "cell_type": "markdown",
   "metadata": {},
   "source": [
    "El gran problema que veo en este momento, es que tenemos muy registros para el caso de alta demanda entre la semana 47 y 51. Es probable que un modelo de machine learning complejo no pueda encontrar patrones correctos con tan poca cantidad de registros."
   ]
  },
  {
   "cell_type": "markdown",
   "metadata": {},
   "source": [
    "Es probable que un sistema mucho más simple como una regresión lineal entregue mejores resultados. Dado que los patrones de venta son muy similares entre un año y otro, comparando el mismo número de semanas."
   ]
  },
  {
   "cell_type": "markdown",
   "metadata": {},
   "source": [
    "Voy a experimentar con algoritmos de regresión lineal (o más simples aún) para pronosticar las semanas 36-43 y luego medir su precisión."
   ]
  },
  {
   "cell_type": "code",
   "execution_count": 168,
   "metadata": {},
   "outputs": [],
   "source": [
    "week_comparison_total.drop(columns=['IsHoliday']).to_csv(\"../clean_data/weekly_sales_total.csv\", index=False)"
   ]
  },
  {
   "cell_type": "code",
   "execution_count": null,
   "metadata": {},
   "outputs": [],
   "source": []
  }
 ],
 "metadata": {
  "kernelspec": {
   "display_name": "Python 3.11.0 ('premier-test')",
   "language": "python",
   "name": "python3"
  },
  "language_info": {
   "codemirror_mode": {
    "name": "ipython",
    "version": 3
   },
   "file_extension": ".py",
   "mimetype": "text/x-python",
   "name": "python",
   "nbconvert_exporter": "python",
   "pygments_lexer": "ipython3",
   "version": "3.11.0"
  },
  "orig_nbformat": 4,
  "vscode": {
   "interpreter": {
    "hash": "7872735e353004fc53505fa026cec2d6e4ec5ba157960d15594f4aff1692a9f1"
   }
  }
 },
 "nbformat": 4,
 "nbformat_minor": 2
}
